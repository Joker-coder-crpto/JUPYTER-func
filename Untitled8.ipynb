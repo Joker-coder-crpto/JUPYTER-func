{
 "cells": [
  {
   "cell_type": "code",
   "execution_count": null,
   "id": "bd43da09",
   "metadata": {},
   "outputs": [],
   "source": [
    "# create a function take 5 inputs, 3 inputs are lists 2 inputs are 2 words "
   ]
  },
  {
   "cell_type": "code",
   "execution_count": 5,
   "id": "3ba9d4ff",
   "metadata": {},
   "outputs": [],
   "source": [
    "list1 = ['a','b','c','d']\n",
    "list2 = ['e','f','g']\n",
    "list3 = ['h','i','j']\n",
    "word1 = 'king'\n",
    "word2 = 'queen'\n",
    "def func(list1,list2,list3,word1,word2):\n",
    "    for i in range(len(list1)):\n",
    "        list1[i] += word1\n",
    "        list1[i] += word2\n",
    "        \n",
    "    for j in range(len(list2)):\n",
    "        list2[j] += word1\n",
    "        list2[j] += word2\n",
    "        \n",
    "    for k in range(len(list3)):\n",
    "        list3[k] += word1\n",
    "        list3[k] += word2\n",
    "    \n",
    "    return list1,list2,list3\n",
    "        "
   ]
  },
  {
   "cell_type": "code",
   "execution_count": 6,
   "id": "0602f8cf",
   "metadata": {},
   "outputs": [
    {
     "data": {
      "text/plain": [
       "(['akingqueen', 'bkingqueen', 'ckingqueen', 'dkingqueen'],\n",
       " ['ekingqueen', 'fkingqueen', 'gkingqueen'],\n",
       " ['hkingqueen', 'ikingqueen', 'jkingqueen'])"
      ]
     },
     "execution_count": 6,
     "metadata": {},
     "output_type": "execute_result"
    }
   ],
   "source": [
    "func(list1,list2,list3,word1,word2)"
   ]
  },
  {
   "cell_type": "code",
   "execution_count": 3,
   "id": "23a5c2cf",
   "metadata": {},
   "outputs": [],
   "source": [
    "list3 = [1,2,3]\n",
    "list4 = [4,5,6]\n",
    "\n",
    "def sub(list3,list4):\n",
    "    for i in range(len(list3)):\n",
    "        list3[i] -= 2\n",
    "    \n",
    "    for j in range(len(list4)):\n",
    "        list4[j] -= 2\n",
    "        \n",
    "        return list3,list4"
   ]
  },
  {
   "cell_type": "code",
   "execution_count": 4,
   "id": "e7bb11e8",
   "metadata": {
    "scrolled": true
   },
   "outputs": [
    {
     "data": {
      "text/plain": [
       "([-1, 0, 1], [2, 5, 6])"
      ]
     },
     "execution_count": 4,
     "metadata": {},
     "output_type": "execute_result"
    }
   ],
   "source": [
    "sub(list3,list4)"
   ]
  },
  {
   "cell_type": "code",
   "execution_count": 46,
   "id": "d064e1d1",
   "metadata": {},
   "outputs": [],
   "source": [
    "#logic jo string me words he uske letterss woh sab list me dalne he \n",
    "\n",
    "word1 = \"komal\"\n",
    "word2 = \"mahadik\"\n",
    "\n",
    "\n",
    "def put_words_in_list(word1, word2):\n",
    "    word_list = []\n",
    "    for i in word1:\n",
    "        word_list.append(i)\n",
    "    for j in word2:\n",
    "        word_list.append(j)\n",
    "    \n",
    "    return word_list\n",
    "\n",
    "\n",
    "\n",
    "# questionzzz\n"
   ]
  },
  {
   "cell_type": "code",
   "execution_count": 47,
   "id": "7e7e5410",
   "metadata": {},
   "outputs": [
    {
     "data": {
      "text/plain": [
       "['k', 'o', 'm', 'a', 'l', 'm', 'a', 'h', 'a', 'd', 'i', 'k']"
      ]
     },
     "execution_count": 47,
     "metadata": {},
     "output_type": "execute_result"
    }
   ],
   "source": [
    "put_words_in_list(word1, word2)"
   ]
  },
  {
   "cell_type": "code",
   "execution_count": null,
   "id": "6aea515c",
   "metadata": {},
   "outputs": [],
   "source": []
  },
  {
   "cell_type": "code",
   "execution_count": null,
   "id": "4e55aa66",
   "metadata": {},
   "outputs": [],
   "source": []
  },
  {
   "cell_type": "code",
   "execution_count": null,
   "id": "8b95b9e7",
   "metadata": {},
   "outputs": [],
   "source": []
  },
  {
   "cell_type": "code",
   "execution_count": null,
   "id": "e27b760d",
   "metadata": {},
   "outputs": [],
   "source": []
  },
  {
   "cell_type": "code",
   "execution_count": 16,
   "id": "6d37cdc7",
   "metadata": {},
   "outputs": [],
   "source": [
    "#Find The Length Of A List In Python Without Using Len()"
   ]
  },
  {
   "cell_type": "code",
   "execution_count": 13,
   "id": "9a0d315f",
   "metadata": {},
   "outputs": [],
   "source": [
    "given_list = ['jack','david','hearty',2,54,54]"
   ]
  },
  {
   "cell_type": "code",
   "execution_count": 16,
   "id": "9d671782",
   "metadata": {},
   "outputs": [
    {
     "name": "stdout",
     "output_type": "stream",
     "text": [
      "len(given_list) is : 6,6 \n"
     ]
    }
   ],
   "source": [
    "length = 0\n",
    "for i in range(len(given_list)):\n",
    "    length = i+1\n",
    "\n",
    "\n",
    "count = 0\n",
    "for i in range(len(given_list)):\n",
    "    count+=1\n",
    "print(f'len(given_list) is : {count},{length} ')"
   ]
  },
  {
   "cell_type": "code",
   "execution_count": null,
   "id": "2c71bd94",
   "metadata": {},
   "outputs": [],
   "source": []
  },
  {
   "cell_type": "code",
   "execution_count": null,
   "id": "b40b4588",
   "metadata": {},
   "outputs": [],
   "source": []
  }
 ],
 "metadata": {
  "kernelspec": {
   "display_name": "Python 3 (ipykernel)",
   "language": "python",
   "name": "python3"
  },
  "language_info": {
   "codemirror_mode": {
    "name": "ipython",
    "version": 3
   },
   "file_extension": ".py",
   "mimetype": "text/x-python",
   "name": "python",
   "nbconvert_exporter": "python",
   "pygments_lexer": "ipython3",
   "version": "3.11.5"
  }
 },
 "nbformat": 4,
 "nbformat_minor": 5
}
