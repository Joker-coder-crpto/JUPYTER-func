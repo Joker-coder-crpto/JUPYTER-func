{
 "cells": [
  {
   "cell_type": "code",
   "execution_count": null,
   "id": "7e0a12d5",
   "metadata": {},
   "outputs": [],
   "source": [
    "string = 'Test1ngLeet=code-Q!' \n",
    "\n",
    "# alphanums_str_reverse = 'QedocteeLgn1tseT   '\n",
    "# string                = 'Test1ngLeet=code-Q!'\n",
    "# special_chars         = ['!','-','=']\n",
    "\n",
    "# solo leveling"
   ]
  },
  {
   "cell_type": "code",
   "execution_count": null,
   "id": "3f4d11e7",
   "metadata": {},
   "outputs": [],
   "source": []
  }
 ],
 "metadata": {
  "kernelspec": {
   "display_name": "Python 3 (ipykernel)",
   "language": "python",
   "name": "python3"
  },
  "language_info": {
   "codemirror_mode": {
    "name": "ipython",
    "version": 3
   },
   "file_extension": ".py",
   "mimetype": "text/x-python",
   "name": "python",
   "nbconvert_exporter": "python",
   "pygments_lexer": "ipython3",
   "version": "3.11.5"
  }
 },
 "nbformat": 4,
 "nbformat_minor": 5
}
