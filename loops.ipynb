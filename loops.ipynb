{
 "cells": [
  {
   "cell_type": "code",
   "execution_count": 1,
   "id": "8a445a3a",
   "metadata": {},
   "outputs": [],
   "source": [
    "numbers = [1,2,3,4,] "
   ]
  },
  {
   "cell_type": "code",
   "execution_count": 2,
   "id": "62cbb8ca",
   "metadata": {},
   "outputs": [
    {
     "name": "stdout",
     "output_type": "stream",
     "text": [
      "1\n",
      "2\n",
      "3\n",
      "4\n"
     ]
    }
   ],
   "source": [
    "for i in numbers:\n",
    "    print(i)"
   ]
  },
  {
   "cell_type": "code",
   "execution_count": 5,
   "id": "7a4ba739",
   "metadata": {},
   "outputs": [],
   "source": [
    "num = [1,2,3,4,5,6]"
   ]
  },
  {
   "cell_type": "code",
   "execution_count": 6,
   "id": "ec2d0b1f",
   "metadata": {},
   "outputs": [
    {
     "name": "stdout",
     "output_type": "stream",
     "text": [
      "2\n",
      "4\n",
      "6\n"
     ]
    }
   ],
   "source": [
    "len([1,2,3])\n",
    "for i in num:\n",
    "    if (i % 2 == 0):\n",
    "        print(i) \n",
    "    "
   ]
  },
  {
   "cell_type": "code",
   "execution_count": 7,
   "id": "561b948f",
   "metadata": {},
   "outputs": [],
   "source": [
    "def even_num():\n",
    "    numbie = []\n",
    "    \n",
    "    for i in num:\n",
    "        if (i % 2 == 0):\n",
    "            \n",
    "            \n",
    "            numbie.append(i) \n",
    "            \n",
    "            \n",
    "    return numbie"
   ]
  },
  {
   "cell_type": "code",
   "execution_count": 10,
   "id": "cb2c2622",
   "metadata": {},
   "outputs": [],
   "source": [
    "numbie = []\n",
    "even_num = lambda num : [ i for i in num if i % 2 == 0 ] "
   ]
  },
  {
   "cell_type": "code",
   "execution_count": 11,
   "id": "af9b3771",
   "metadata": {},
   "outputs": [
    {
     "ename": "TypeError",
     "evalue": "<lambda>() missing 1 required positional argument: 'num'",
     "output_type": "error",
     "traceback": [
      "\u001b[1;31m---------------------------------------------------------------------------\u001b[0m",
      "\u001b[1;31mTypeError\u001b[0m                                 Traceback (most recent call last)",
      "Cell \u001b[1;32mIn[11], line 1\u001b[0m\n\u001b[1;32m----> 1\u001b[0m even_num()\n",
      "\u001b[1;31mTypeError\u001b[0m: <lambda>() missing 1 required positional argument: 'num'"
     ]
    }
   ],
   "source": [
    "even_num()"
   ]
  },
  {
   "cell_type": "code",
   "execution_count": 66,
   "id": "0dce1df5",
   "metadata": {},
   "outputs": [
    {
     "name": "stdout",
     "output_type": "stream",
     "text": [
      "Help on built-in function len in module builtins:\n",
      "\n",
      "len(obj, /)\n",
      "    Return the number of items in a container.\n",
      "\n"
     ]
    }
   ],
   "source": [
    "help(len)\n"
   ]
  },
  {
   "cell_type": "code",
   "execution_count": 64,
   "id": "379571e6",
   "metadata": {},
   "outputs": [
    {
     "data": {
      "text/plain": [
       "[2, 4, 6]"
      ]
     },
     "execution_count": 64,
     "metadata": {},
     "output_type": "execute_result"
    }
   ],
   "source": [
    "even_num()"
   ]
  },
  {
   "cell_type": "code",
   "execution_count": 50,
   "id": "c2e2d50d",
   "metadata": {},
   "outputs": [],
   "source": [
    "def even_num():\n",
    "    for i in num:\n",
    "        if (i % 2 == 0):\n",
    "            return i "
   ]
  },
  {
   "cell_type": "code",
   "execution_count": 51,
   "id": "03e42989",
   "metadata": {},
   "outputs": [
    {
     "name": "stdout",
     "output_type": "stream",
     "text": [
      "2\n",
      "4\n",
      "6\n"
     ]
    }
   ],
   "source": [
    "even_num(num)"
   ]
  },
  {
   "cell_type": "code",
   "execution_count": 40,
   "id": "a2ed910f",
   "metadata": {},
   "outputs": [
    {
     "name": "stdout",
     "output_type": "stream",
     "text": [
      "**-*\n",
      "-*-*\n",
      "**-*\n"
     ]
    }
   ],
   "source": [
    "word = 'Juicewrld'\n",
    "word = '*-*'\n",
    "reverse_word = ''\n",
    "\n",
    "for i in word:\n",
    "    #reverse_word = reverse_word + i\n",
    "    reverse_word = i + word\n",
    "    #reverse_word_2 = reverse_word|+ i\n",
    "    print(reverse_word)\n"
   ]
  },
  {
   "cell_type": "code",
   "execution_count": 37,
   "id": "62a77aee",
   "metadata": {},
   "outputs": [
    {
     "name": "stdout",
     "output_type": "stream",
     "text": [
      "h\n",
      "ih\n"
     ]
    }
   ],
   "source": [
    "s ='hi'\n",
    "rs = ''\n",
    "\n",
    "for a in s:\n",
    "    rs = a +rs\n",
    "    print(rs)"
   ]
  },
  {
   "cell_type": "code",
   "execution_count": null,
   "id": "5e5a0cc0",
   "metadata": {},
   "outputs": [],
   "source": []
  }
 ],
 "metadata": {
  "kernelspec": {
   "display_name": "Python 3 (ipykernel)",
   "language": "python",
   "name": "python3"
  },
  "language_info": {
   "codemirror_mode": {
    "name": "ipython",
    "version": 3
   },
   "file_extension": ".py",
   "mimetype": "text/x-python",
   "name": "python",
   "nbconvert_exporter": "python",
   "pygments_lexer": "ipython3",
   "version": "3.11.5"
  }
 },
 "nbformat": 4,
 "nbformat_minor": 5
}
