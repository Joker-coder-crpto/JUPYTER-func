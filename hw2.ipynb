{
 "cells": [
  {
   "cell_type": "code",
   "execution_count": 31,
   "id": "b73958c8",
   "metadata": {},
   "outputs": [],
   "source": [
    "a = 12\n",
    "b = 6"
   ]
  },
  {
   "cell_type": "code",
   "execution_count": 59,
   "id": "c361f4ad",
   "metadata": {},
   "outputs": [],
   "source": [
    "def multiple_operations():\n",
    "    c = a + b\n",
    "    d = a - b\n",
    "    e = a * b\n",
    "    f = a / b\n",
    "    \n",
    "    return c,d,e,f"
   ]
  },
  {
   "cell_type": "code",
   "execution_count": 60,
   "id": "b45337ed",
   "metadata": {},
   "outputs": [
    {
     "data": {
      "text/plain": [
       "(18, 6, 72, 2.0)"
      ]
     },
     "execution_count": 60,
     "metadata": {},
     "output_type": "execute_result"
    }
   ],
   "source": [
    "multiple_operations()"
   ]
  },
  {
   "cell_type": "code",
   "execution_count": 50,
   "id": "83909dfc",
   "metadata": {},
   "outputs": [],
   "source": [
    "# multiple_operations(a,b)"
   ]
  },
  {
   "cell_type": "code",
   "execution_count": null,
   "id": "cb1542f3",
   "metadata": {},
   "outputs": [],
   "source": []
  },
  {
   "cell_type": "code",
   "execution_count": null,
   "id": "e9389954",
   "metadata": {},
   "outputs": [],
   "source": []
  }
 ],
 "metadata": {
  "kernelspec": {
   "display_name": "Python 3 (ipykernel)",
   "language": "python",
   "name": "python3"
  },
  "language_info": {
   "codemirror_mode": {
    "name": "ipython",
    "version": 3
   },
   "file_extension": ".py",
   "mimetype": "text/x-python",
   "name": "python",
   "nbconvert_exporter": "python",
   "pygments_lexer": "ipython3",
   "version": "3.11.5"
  }
 },
 "nbformat": 4,
 "nbformat_minor": 5
}
