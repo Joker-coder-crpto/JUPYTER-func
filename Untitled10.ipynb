{
 "cells": [
  {
   "cell_type": "code",
   "execution_count": null,
   "id": "81f701ef",
   "metadata": {},
   "outputs": [],
   "source": [
    "string = 'Test1ngLeet=code-Q!'\n",
    "\n",
    "def reverse_no_char(string):\n",
    "\n",
    "    string_list = []\n",
    "\n",
    "    char = ['!','=','-']\n",
    "    alpha_nums = []\n",
    "\n",
    "    for i in string:\n",
    "        string_list.append(i)\n",
    "    \n",
    "    for i in string_list:\n",
    "        if i not in char:\n",
    "            alpha_nums.append(i)\n",
    "\n",
    "    reverse_alpha_nums = alpha_nums[::-1]\n",
    "    k = 0\n",
    "    print(reverse_alpha_nums)\n",
    "    \n",
    "    \n",
    "    \n",
    "    #for i in \n",
    "\n",
    "    #for i in range(len(string)-1,-1,-1):\n",
    "        #for j in range(len(reverse_alpha_nums)):\n",
    "            \n",
    "        \n",
    "            #if string[i] not in reverse_alpha_nums:\n",
    "                #reverse_alpha_nums.insert(i,string_list[i])\n",
    "                \n",
    "                #print(reverse_alpha_nums[j])\n",
    "            \n",
    "    \n",
    "        \n",
    "    \n",
    "    #for i in range(len(string)):\n",
    "        #for j in range(len(reverse_alpha_nums)):\n",
    "        \n",
    "            \n",
    "            #if string[-i-k] not in reverse_alpha_nums:\n",
    "                #reverse_alpha_nums.insert(-i-k,string[-i-k])\n",
    "                \n",
    "           \n",
    "    reverse_alpha_numz = ''\n",
    "    for i in reverse_alpha_nums:\n",
    "        reverse_alpha_numz = reverse_alpha_numz + i\n",
    "    return reverse_alpha_numz\n"
   ]
  },
  {
   "cell_type": "code",
   "execution_count": null,
   "id": "44425475",
   "metadata": {},
   "outputs": [],
   "source": [
    "reverse_no_char(string)\n"
   ]
  },
  {
   "cell_type": "code",
   "execution_count": null,
   "id": "a17f381c",
   "metadata": {},
   "outputs": [],
   "source": []
  },
  {
   "cell_type": "code",
   "execution_count": null,
   "id": "751246de",
   "metadata": {},
   "outputs": [],
   "source": [
    "sky = 'dragon'\n",
    "heaven = ['g','o','d','s']\n",
    "heaven2 = ['k','k','k']\n",
    "k = 1\n",
    "for i in range(len(sky)):\n",
    "    for j in range(len(heaven)):\n",
    "        #print(sky[-i-k],heaven[j])\n",
    "        \n",
    "      \n",
    "        if sky[-i-k] == heaven[j]:\n",
    "            print(sky[-i-k])\n",
    "            \n",
    "            heaven2.insert((-i-k),sky[-i-k])\n",
    "            print(heaven2)\n",
    "           "
   ]
  },
  {
   "cell_type": "code",
   "execution_count": null,
   "id": "017f82ae",
   "metadata": {},
   "outputs": [],
   "source": [
    "            print(string[i],reverse_alpha_nums[j])\n",
    "            print('***')"
   ]
  },
  {
   "cell_type": "code",
   "execution_count": null,
   "id": "9d5fa223",
   "metadata": {},
   "outputs": [],
   "source": [
    "a = [ 'a0','b1','c2','d3','e4']"
   ]
  },
  {
   "cell_type": "code",
   "execution_count": null,
   "id": "3b022d95",
   "metadata": {},
   "outputs": [],
   "source": [
    "len(a)"
   ]
  },
  {
   "cell_type": "code",
   "execution_count": null,
   "id": "fc4d4ef1",
   "metadata": {},
   "outputs": [],
   "source": [
    "-5,-4,-3,-2,-1,0,1,2,3,4,5"
   ]
  },
  {
   "cell_type": "code",
   "execution_count": null,
   "id": "3471c647",
   "metadata": {},
   "outputs": [],
   "source": [
    "a = [ 'a0','b1','c2','d3','e4']\n",
    "len(a)-1"
   ]
  },
  {
   "cell_type": "code",
   "execution_count": null,
   "id": "6cdcb509",
   "metadata": {},
   "outputs": [],
   "source": [
    "#Given an array, rotate the array to the right by k steps, where k is non-negative."
   ]
  },
  {
   "cell_type": "code",
   "execution_count": null,
   "id": "15a3af22",
   "metadata": {},
   "outputs": [],
   "source": [
    "array = ['a','b','c','d','e']\n",
    "'''\n",
    "array = ['a0','b1','c2','d3','e4']\n",
    "array = ['e','a','b','c','d'] if k = 1\n",
    "array = ['d','e','a','b','c'] if k = 2\n",
    "'''"
   ]
  },
  {
   "cell_type": "code",
   "execution_count": null,
   "id": "35f34ffc",
   "metadata": {},
   "outputs": [],
   "source": [
    "def shift_array(array,k):\n",
    "    \n",
    "    start = 0\n",
    "    end = -1\n",
    "    new_array = []\n",
    "    if k > len(array):\n",
    "            k = int(k/len(array))\n",
    "    \n",
    "    for i in range(-k,len(array)):\n",
    "        \n",
    "        new_array.append(array[i])\n",
    "        #print(new_array)\n",
    "        #print(new_array[0],new_array[-1])\n",
    "        #print('*******')\n",
    "         \n",
    "            \n",
    "        if len(new_array) > len(array)-1:\n",
    "            break\n",
    "            \n",
    "    return new_array"
   ]
  },
  {
   "cell_type": "code",
   "execution_count": null,
   "id": "80968006",
   "metadata": {
    "scrolled": true
   },
   "outputs": [],
   "source": [
    "shift_array(array,9)"
   ]
  },
  {
   "cell_type": "code",
   "execution_count": null,
   "id": "c2b7381c",
   "metadata": {},
   "outputs": [],
   "source": [
    "list1 = ['0','1','2','3','4']\n",
    "\n",
    "list1 = ['-5','-4','-3','-2','-1']\n",
    "list[-5]"
   ]
  },
  {
   "cell_type": "code",
   "execution_count": null,
   "id": "13df5457",
   "metadata": {},
   "outputs": [],
   "source": [
    "\n",
    "for i in range(len(list1)-1,1,1): \n",
    "    print(list1[i])\n",
    "   \n",
    "    "
   ]
  },
  {
   "cell_type": "code",
   "execution_count": null,
   "id": "6d8cb9a6",
   "metadata": {},
   "outputs": [],
   "source": [
    "-5,-4,-3,-2,-1,0,1,2,3,4,5"
   ]
  },
  {
   "cell_type": "code",
   "execution_count": null,
   "id": "04f6c18c",
   "metadata": {},
   "outputs": [],
   "source": []
  },
  {
   "cell_type": "code",
   "execution_count": null,
   "id": "90e04be0",
   "metadata": {},
   "outputs": [],
   "source": [
    "array = ['a','b','c','d','e']\n",
    "\n",
    "def rotate_array(array,k):\n",
    "    new_array = []\n",
    "    \n",
    "    if len(array) == 0:\n",
    "        return []\n",
    "    \n",
    "    if k > len(array):\n",
    "        k = k % len(array)\n",
    "        print(k)\n",
    "    \n",
    "    for i in range(-k,len(array)-1):\n",
    "        new_array.append(array[i])\n",
    "        \n",
    "        if len(new_array) > len(array)-1:\n",
    "            break\n",
    "        \n",
    "    return new_array"
   ]
  },
  {
   "cell_type": "code",
   "execution_count": null,
   "id": "b946dfea",
   "metadata": {
    "scrolled": false
   },
   "outputs": [],
   "source": [
    "rotate_array(array,5)"
   ]
  },
  {
   "cell_type": "code",
   "execution_count": null,
   "id": "296afdb9",
   "metadata": {},
   "outputs": [],
   "source": []
  },
  {
   "cell_type": "code",
   "execution_count": null,
   "id": "6213140c",
   "metadata": {},
   "outputs": [],
   "source": [
    "k = 8\n",
    "aray = ['a','b','c','d','e']\n",
    "len(aray)\n",
    "\n",
    "if  k > len(aray):\n",
    "    k = k % len(aray)\n",
    "print(k)"
   ]
  },
  {
   "cell_type": "code",
   "execution_count": null,
   "id": "725063cb",
   "metadata": {},
   "outputs": [],
   "source": []
  },
  {
   "cell_type": "code",
   "execution_count": null,
   "id": "cfe1fb3c",
   "metadata": {},
   "outputs": [],
   "source": [
    "Roman numerals are represented by seven different symbols: I, V, X, L, C, D and M.\n",
    "\n",
    "Symbol       Value\n",
    "I             1\n",
    "V             5\n",
    "X             10\n",
    "L             50\n",
    "C             100\n",
    "D             500\n",
    "M             1000"
   ]
  },
  {
   "cell_type": "code",
   "execution_count": 21,
   "id": "607282d5",
   "metadata": {
    "scrolled": true
   },
   "outputs": [
    {
     "name": "stdout",
     "output_type": "stream",
     "text": [
      "10\n",
      "5\n",
      "1\n"
     ]
    }
   ],
   "source": [
    "roman_values = {'I': 1, 'V': 5, 'X': 10, 'L': 50, 'C': 100, 'D': 500, 'M': 1000}\n",
    "result = 0 \n",
    "prev_value = 0\n",
    "S = 'XVI'\n",
    "for char in S:\n",
    "    current_value = roman_values[char]\n",
    "    print(current_value)\n"
   ]
  },
  {
   "cell_type": "code",
   "execution_count": 11,
   "id": "5f341cf6",
   "metadata": {},
   "outputs": [
    {
     "name": "stdout",
     "output_type": "stream",
     "text": [
      "5\n"
     ]
    },
    {
     "data": {
      "text/plain": [
       "5"
      ]
     },
     "execution_count": 11,
     "metadata": {},
     "output_type": "execute_result"
    }
   ],
   "source": [
    "romanToInt('VII')"
   ]
  }
 ],
 "metadata": {
  "kernelspec": {
   "display_name": "Python 3 (ipykernel)",
   "language": "python",
   "name": "python3"
  },
  "language_info": {
   "codemirror_mode": {
    "name": "ipython",
    "version": 3
   },
   "file_extension": ".py",
   "mimetype": "text/x-python",
   "name": "python",
   "nbconvert_exporter": "python",
   "pygments_lexer": "ipython3",
   "version": "3.11.5"
  }
 },
 "nbformat": 4,
 "nbformat_minor": 5
}
